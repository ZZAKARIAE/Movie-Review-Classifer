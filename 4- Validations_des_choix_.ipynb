{
  "cells": [
    {
      "cell_type": "code",
      "execution_count": 15,
      "metadata": {
        "id": "v5hAx_XK3xCl"
      },
      "outputs": [],
      "source": [
        "# On importe les bibliothèque nécessaire\n",
        "import sqlite3\n",
        "import pandas as pd\n",
        "from sklearn.model_selection import train_test_split\n",
        "from sklearn.feature_extraction.text import TfidfVectorizer\n",
        "from sklearn.linear_model import LogisticRegression\n",
        "from sklearn.svm import SVC\n",
        "from sklearn.ensemble import RandomForestClassifier\n",
        "from sklearn.naive_bayes import MultinomialNB\n",
        "from sklearn.metrics import accuracy_score, precision_score, recall_score, f1_score"
      ]
    },
    {
      "cell_type": "code",
      "execution_count": 16,
      "metadata": {
        "colab": {
          "base_uri": "https://localhost:8080/"
        },
        "id": "_LD-afON32BA",
        "outputId": "b5025964-87c0-4e36-d6c1-f884c527e6ba"
      },
      "outputs": [
        {
          "output_type": "execute_result",
          "data": {
            "text/plain": [
              "rating    0\n",
              "text      0\n",
              "dtype: int64"
            ]
          },
          "metadata": {},
          "execution_count": 16
        }
      ],
      "source": [
        "#Base de données d'entrainement\n",
        "# Connexion à la base de données\n",
        "conn = sqlite3.connect('train.db')\n",
        "c = conn.cursor()\n",
        "\n",
        "#Création du data frame\n",
        "df_train = pd.read_sql_query(\"SELECT * from avis\", conn)\n",
        "\n",
        "# Validation de la transaction et fermeture de la connexion\n",
        "conn.commit()\n",
        "conn.close()\n",
        "\n",
        "#Retirer des colonnes\n",
        "df_train = df_train.drop('rowid', axis = 1)\n",
        "df_train = df_train.drop('id', axis = 1)\n",
        "\n",
        "#Valeurs dupliquées\n",
        "df_train.duplicated().sum()\n",
        "df_train.drop_duplicates(inplace=True)\n",
        "\n",
        "#Valeurs manquantes\n",
        "df_train.isnull().sum()"
      ]
    },
    {
      "cell_type": "code",
      "execution_count": 17,
      "metadata": {
        "id": "ZwW29sbv343Q"
      },
      "outputs": [],
      "source": [
        "# Encodage de la colonne rating\n",
        "df_train['rating'] = df_train['rating'].apply(lambda x: 0 if x < 5 else 1)\n",
        "\n",
        "# Charger les données d'entrainement depuis la base de données\n",
        "x_train = df_train['text']\n",
        "y_train = df_train['rating']\n",
        "\n",
        "# x_train est une liste de textes et y_train est une liste d'étiquettes du score\n",
        "# Convertir les textes en vecteurs numériques avec la vectorisation TF-IDF\n",
        "vectorizer = TfidfVectorizer()\n",
        "x_train_vectorized = vectorizer.fit_transform(x_train)\n",
        "\n",
        "# On divise les données en ensemble d'entrainement et ensemble de test\n",
        "x_train_vec, x_test_vec, y_train, y_test = train_test_split(x_train_vectorized, y_train, test_size=0.2, random_state=42)"
      ]
    },
    {
      "cell_type": "code",
      "execution_count": 18,
      "metadata": {
        "colab": {
          "base_uri": "https://localhost:8080/"
        },
        "id": "K6xSxB3p37Y9",
        "outputId": "19d11019-1d3f-4a23-d7db-782b3d4dd6ab"
      },
      "outputs": [
        {
          "output_type": "stream",
          "name": "stdout",
          "text": [
            "Exactitude de SVM:  0.8859666733587633\n",
            "Précision de SVM:  0.8863878031655912\n",
            "Rappel de SVM:  0.8857013844652835\n",
            "F1 score de SVM:  0.8858589793533308\n"
          ]
        }
      ],
      "source": [
        "svm_model_best = SVC(C=1, gamma=0.1, kernel='linear')\n",
        "svm_model_best.fit(x_train_vec, y_train)\n",
        "\n",
        "y_pred_svm_b = svm_model_best.predict(x_test_vec)\n",
        "\n",
        "# Calculer l'exactitude des prédictions\n",
        "accuracy_svm_b = accuracy_score(y_test, y_pred_svm_b)\n",
        "precision_svm_b = precision_score(y_test, y_pred_svm_b, average='macro')\n",
        "recall_svm_b = recall_score(y_test, y_pred_svm_b, average='macro')\n",
        "f1_score_svm_b = f1_score(y_test, y_pred_svm_b, average='macro')\n",
        "\n",
        "print(\"Exactitude de SVM: \", accuracy_svm_b)\n",
        "print(\"Précision de SVM: \", precision_svm_b)\n",
        "print(\"Rappel de SVM: \", recall_svm_b)\n",
        "print(\"F1 score de SVM: \", f1_score_svm_b)"
      ]
    },
    {
      "cell_type": "code",
      "execution_count": 19,
      "metadata": {
        "colab": {
          "base_uri": "https://localhost:8080/"
        },
        "id": "7b0ZkOavG8UR",
        "outputId": "5432d13b-9238-49b3-b9f2-bcbc783248cd"
      },
      "outputs": [
        {
          "output_type": "stream",
          "name": "stdout",
          "text": [
            "Accuracy: 0.95 (+/- 0.02)\n"
          ]
        }
      ],
      "source": [
        "from sklearn.model_selection import cross_val_score\n",
        "from sklearn.svm import SVC\n",
        "from sklearn.datasets import make_classification\n",
        "\n",
        "# Création de données fictives pour l'exemple\n",
        "X, y = make_classification(n_samples=1000, random_state=0)\n",
        "\n",
        "# Création du modèle SVM\n",
        "clf = SVC(kernel='linear', C=1, random_state=0)\n",
        "\n",
        "# Validation croisée avec 5 partitions\n",
        "scores = cross_val_score(clf, X, y, cv=5)\n",
        "\n",
        "# Affichage des scores moyens et de l'écart-type\n",
        "print(\"Accuracy: %0.2f (+/- %0.2f)\" % (scores.mean(), scores.std() * 2))"
      ]
    },
    {
      "cell_type": "code",
      "execution_count": 20,
      "metadata": {
        "colab": {
          "base_uri": "https://localhost:8080/"
        },
        "id": "HE4NJxUMLmKe",
        "outputId": "82b2dc4f-4a42-452e-cb9e-2d03e1784fd3"
      },
      "outputs": [
        {
          "output_type": "execute_result",
          "data": {
            "text/plain": [
              "rating    0\n",
              "text      0\n",
              "dtype: int64"
            ]
          },
          "metadata": {},
          "execution_count": 20
        }
      ],
      "source": [
        "#Base de données de test\n",
        "# Connexion à la base de données\n",
        "conn = sqlite3.connect('test.db')\n",
        "c = conn.cursor()\n",
        "\n",
        "#Création du data frame\n",
        "df_test = pd.read_sql_query(\"SELECT * from avis\", conn)\n",
        "\n",
        "# Validation de la transaction et fermeture de la connexion\n",
        "conn.commit()\n",
        "conn.close()\n",
        "\n",
        "#Retirer des colonnes\n",
        "df_test = df_test.drop('rowid', axis = 1)\n",
        "df_test = df_test.drop('id', axis = 1)\n",
        "\n",
        "#Valeurs dupliquées\n",
        "df_test.duplicated().sum()\n",
        "df_test.drop_duplicates(inplace=True)\n",
        "\n",
        "#Valeurs manquantes\n",
        "df_test.isnull().sum()"
      ]
    },
    {
      "cell_type": "code",
      "execution_count": 21,
      "metadata": {
        "id": "gHubYvWPLvx-"
      },
      "outputs": [],
      "source": [
        "# Encodage de la colonne rating\n",
        "df_test['rating'] = df_test['rating'].apply(lambda x: 0 if x < 5 else 1)\n",
        "\n",
        "# Charger les données de test depuis la base de données\n",
        "x_testb = df_test['text']\n",
        "y_testb = df_test['rating']\n",
        "\n",
        "# x_test est une liste de textes et y_test est une liste d'étiquettes du score\n",
        "# Convertir les textes en vecteurs numériques avec la vectorisation TF-IDF\n",
        "\n",
        "x_test_vectorized = vectorizer.transform(df_test['text'])"
      ]
    },
    {
      "cell_type": "code",
      "execution_count": 22,
      "metadata": {
        "colab": {
          "base_uri": "https://localhost:8080/"
        },
        "id": "5LbQKgbwMCyZ",
        "outputId": "406b02f0-8e9a-47a3-84a8-91f495621245"
      },
      "outputs": [
        {
          "output_type": "stream",
          "name": "stdout",
          "text": [
            "Exactitude de SVM:  0.8706555922909442\n",
            "Précision de SVM:  0.8707259659209727\n",
            "Rappel de SVM:  0.8706784364567883\n",
            "F1 score de SVM:  0.8706532296707405\n"
          ]
        }
      ],
      "source": [
        "y_predtest_svm_b = svm_model_best.predict(x_test_vectorized)\n",
        "\n",
        "# Calculer l'exactitude des prédictions\n",
        "accuracy_svm_b = accuracy_score(y_testb, y_predtest_svm_b)\n",
        "precision_svm_b = precision_score(y_testb, y_predtest_svm_b, average='macro')\n",
        "recall_svm_b = recall_score(y_testb, y_predtest_svm_b, average='macro')\n",
        "f1_score_svm_b = f1_score(y_testb, y_predtest_svm_b, average='macro')\n",
        "\n",
        "print(\"Exactitude de SVM: \", accuracy_svm_b)\n",
        "print(\"Précision de SVM: \", precision_svm_b)\n",
        "print(\"Rappel de SVM: \", recall_svm_b)\n",
        "print(\"F1 score de SVM: \", f1_score_svm_b)"
      ]
    }
  ],
  "metadata": {
    "colab": {
      "provenance": []
    },
    "kernelspec": {
      "display_name": "Python 3",
      "name": "python3"
    },
    "language_info": {
      "name": "python"
    }
  },
  "nbformat": 4,
  "nbformat_minor": 0
}
