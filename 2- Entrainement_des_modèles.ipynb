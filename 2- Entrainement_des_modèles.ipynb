{
  "nbformat": 4,
  "nbformat_minor": 0,
  "metadata": {
    "colab": {
      "provenance": []
    },
    "kernelspec": {
      "name": "python3",
      "display_name": "Python 3"
    },
    "language_info": {
      "name": "python"
    },
    "accelerator": "GPU",
    "gpuClass": "standard"
  },
  "cells": [
    {
      "cell_type": "code",
      "execution_count": 1,
      "metadata": {
        "id": "6lMvK4jj28PB"
      },
      "outputs": [],
      "source": [
        "# On importe les bibliothèque nécessaire\n",
        "import sqlite3\n",
        "import pandas as pd\n",
        "from sklearn.model_selection import train_test_split\n",
        "from sklearn.feature_extraction.text import TfidfVectorizer\n",
        "from sklearn.linear_model import LogisticRegression\n",
        "from sklearn.svm import SVC\n",
        "from sklearn.ensemble import RandomForestClassifier\n",
        "from sklearn.naive_bayes import MultinomialNB\n",
        "from sklearn.metrics import accuracy_score, precision_score, recall_score, f1_score"
      ]
    },
    {
      "cell_type": "code",
      "source": [
        "#Base de données d'entrainement\n",
        "# Connexion à la base de données\n",
        "conn = sqlite3.connect('train.db')\n",
        "c = conn.cursor()\n",
        "\n",
        "#Création du data frame\n",
        "df_train = pd.read_sql_query(\"SELECT * from avis\", conn)\n",
        "\n",
        "# Validation de la transaction et fermeture de la connexion\n",
        "conn.commit()\n",
        "conn.close()\n",
        "\n",
        "#Retirer des colonnes\n",
        "df_train = df_train.drop('rowid', axis = 1)\n",
        "df_train = df_train.drop('id', axis = 1)\n",
        "\n",
        "#Valeurs dupliquées\n",
        "df_train.duplicated().sum()\n",
        "df_train.drop_duplicates(inplace=True)\n",
        "\n",
        "#Valeurs manquantes\n",
        "df_train.isnull().sum()\n"
      ],
      "metadata": {
        "colab": {
          "base_uri": "https://localhost:8080/"
        },
        "id": "TOj1rwny3Itq",
        "outputId": "7c019541-edf5-49af-8418-942c4733bd1b"
      },
      "execution_count": 2,
      "outputs": [
        {
          "output_type": "execute_result",
          "data": {
            "text/plain": [
              "rating    0\n",
              "text      0\n",
              "dtype: int64"
            ]
          },
          "metadata": {},
          "execution_count": 2
        }
      ]
    },
    {
      "cell_type": "code",
      "source": [
        "# Encodage de la colonne rating\n",
        "df_train['rating'] = df_train['rating'].apply(lambda x: 0 if x < 5 else 1)\n",
        "\n",
        "# Charger les données d'entrainement depuis la base de données\n",
        "x_train = df_train['text']\n",
        "y_train = df_train['rating']\n",
        "\n",
        "# x_train est une liste de textes et y_train est une liste d'étiquettes du score\n",
        "# Convertir les textes en vecteurs numériques avec la vectorisation TF-IDF\n",
        "vectorizer = TfidfVectorizer()\n",
        "x_train_vectorized = vectorizer.fit_transform(x_train)\n",
        "\n",
        "# On divise les données en ensemble d'entrainement et ensemble de test\n",
        "x_train_vec, x_test_vec, y_train, y_test = train_test_split(x_train_vectorized, y_train, test_size=0.2, random_state=42)\n"
      ],
      "metadata": {
        "id": "3YAPsmMGIihS"
      },
      "execution_count": 3,
      "outputs": []
    },
    {
      "cell_type": "code",
      "source": [
        "# Entraînement du modèle\n",
        "lr = LogisticRegression()\n",
        "lr.fit (x_train_vec, y_train)\n",
        "\n",
        "# Faire des prédictions sur l'ensemble de test\n",
        "y_pred_lr = lr.predict(x_test_vec)\n",
        "\n",
        "# Calculer l'exactitude des prédictions\n",
        "accuracy_lr = accuracy_score(y_test, y_pred_lr)\n",
        "precision_lr = precision_score(y_test, y_pred_lr, average='macro')\n",
        "recall_lr = recall_score(y_test, y_pred_lr, average='macro')\n",
        "f1_score_lr = f1_score(y_test, y_pred_lr, average='macro')\n",
        "\n",
        "print(\"Exactitude de la régression logistique: \", accuracy_lr)\n",
        "print(\"Précision de la régression logistique: \", precision_lr)\n",
        "print(\"Rappel de la régression logistique: \", recall_lr)\n",
        "print(\"F1 score de la régression logistique: \", f1_score_lr)"
      ],
      "metadata": {
        "colab": {
          "base_uri": "https://localhost:8080/"
        },
        "id": "KuuljFFBjJpt",
        "outputId": "d4d5335d-8a00-4bf4-80c2-3e803474e182"
      },
      "execution_count": 8,
      "outputs": [
        {
          "output_type": "stream",
          "name": "stdout",
          "text": [
            "Exactitude de la régression logistique:  0.8851636217626982\n",
            "Précision de la régression logistique:  0.885649832561693\n",
            "Rappel de la régression logistique:  0.884878526677364\n",
            "F1 score de la régression logistique:  0.8850464876449864\n"
          ]
        }
      ]
    },
    {
      "cell_type": "code",
      "source": [
        "# Entraînement du modèle\n",
        "svm = SVC(kernel='linear')\n",
        "svm.fit(x_train_vec, y_train)\n",
        "\n",
        "# Faire des prédictions sur l'ensemble de test\n",
        "y_pred_svm = svm.predict(x_test_vec)\n",
        "\n",
        "# Calculer l'exactitude des prédictions\n",
        "accuracy_svm = accuracy_score(y_test, y_pred_svm)\n",
        "precision_svm = precision_score(y_test, y_pred_svm, average='macro')\n",
        "recall_svm = recall_score(y_test, y_pred_svm, average='macro')\n",
        "f1_score_svm = f1_score(y_test, y_pred_svm, average='macro')\n",
        "\n",
        "print(\"Exactitude de SVM: \", accuracy_svm)\n",
        "print(\"Précision de SVM: \", precision_svm)\n",
        "print(\"Rappel de SVM: \", recall_svm)\n",
        "print(\"F1 score de SVM: \", f1_score_svm)"
      ],
      "metadata": {
        "id": "CNBYH-Xkp4Jk",
        "colab": {
          "base_uri": "https://localhost:8080/"
        },
        "outputId": "671939b1-a5bb-4ed0-a2a9-0620fc809d77"
      },
      "execution_count": 6,
      "outputs": [
        {
          "output_type": "stream",
          "name": "stdout",
          "text": [
            "Exactitude de SVM:  0.8859666733587633\n",
            "Précision de SVM:  0.8863878031655912\n",
            "Rappel de SVM:  0.8857013844652835\n",
            "F1 score de SVM:  0.8858589793533308\n"
          ]
        }
      ]
    },
    {
      "cell_type": "code",
      "source": [
        "# Entraînement du modèle\n",
        "rf = RandomForestClassifier()\n",
        "rf.fit(x_train_vec, y_train)\n",
        "\n",
        "# Faire des prédictions sur l'ensemble de test\n",
        "y_pred_rf = rf.predict(x_test_vec)\n",
        "\n",
        "# Calculer l'exactitude des prédictions\n",
        "accuracy_rf = accuracy_score(y_test, y_pred_rf)\n",
        "precision_rf = precision_score(y_test, y_pred_rf, average='macro')\n",
        "recall_rf = recall_score(y_test, y_pred_rf, average='macro')\n",
        "f1_score_rf = f1_score(y_test, y_pred_rf, average='macro')\n",
        "\n",
        "print(\"Exactitude de Random Forest: \", accuracy_rf)\n",
        "print(\"Précision de la Random Forest: \", precision_rf)\n",
        "print(\"Rappel de la Random Forest: \", recall_rf)\n",
        "print(\"F1 score de la Random Forest: \", f1_score_rf)"
      ],
      "metadata": {
        "id": "3OsBUhhste1j",
        "colab": {
          "base_uri": "https://localhost:8080/"
        },
        "outputId": "ebc38219-e41f-4e4d-8978-573412213793"
      },
      "execution_count": 9,
      "outputs": [
        {
          "output_type": "stream",
          "name": "stdout",
          "text": [
            "Exactitude de Random Forest:  0.8419995984742019\n",
            "Précision de la Random Forest:  0.8419651900163212\n",
            "Rappel de la Random Forest:  0.8419414767092139\n",
            "F1 score de la Random Forest:  0.8419524843098396\n"
          ]
        }
      ]
    },
    {
      "cell_type": "code",
      "source": [
        "# Entraînement du modèle\n",
        "nb = MultinomialNB()\n",
        "nb.fit(x_train_vec, y_train)\n",
        "\n",
        "# Faire des prédictions sur l'ensemble de test\n",
        "y_pred_nb = nb.predict(x_test_vec)\n",
        "\n",
        "# Calculer l'exactitude des prédictions\n",
        "accuracy_nb = accuracy_score(y_test, y_pred_nb)\n",
        "precision_nb = precision_score(y_test, y_pred_nb, average='macro')\n",
        "recall_nb = recall_score(y_test, y_pred_nb, average='macro')\n",
        "f1_score_nb = f1_score(y_test, y_pred_nb, average='macro')\n",
        "\n",
        "print(\"Exactitude de Naive Bayes: \", accuracy_nb)\n",
        "print(\"Précision de Naive Bayes: \", precision_nb)\n",
        "print(\"Rappel de Naive Bayest: \", recall_nb)\n",
        "print(\"F1 score de Naive Bayes: \", f1_score_nb)"
      ],
      "metadata": {
        "id": "TSh5G-YauVEf",
        "colab": {
          "base_uri": "https://localhost:8080/"
        },
        "outputId": "4c3db5da-d433-4ed0-d7be-3e0325f21285"
      },
      "execution_count": 10,
      "outputs": [
        {
          "output_type": "stream",
          "name": "stdout",
          "text": [
            "Exactitude de Naive Bayes:  0.8618751254768119\n",
            "Précision de Naive Bayes:  0.861902893236861\n",
            "Rappel de Naive Bayest:  0.861995339423798\n",
            "F1 score de Naive Bayes:  0.8618690625021161\n"
          ]
        }
      ]
    },
    {
      "cell_type": "code",
      "source": [
        "from sklearn.model_selection import GridSearchCV\n",
        "\n",
        "param_grid = {'C': [0.1, 1, 10], 'gamma': [0.1, 1, 10], 'kernel': ['linear']}\n",
        "svm_model = SVC()\n",
        "grid_search = GridSearchCV(svm_model, param_grid)\n",
        "grid_search.fit(x_train_vec, y_train)\n",
        "print(grid_search.best_params_)"
      ],
      "metadata": {
        "id": "UaPSfUTCdStD",
        "colab": {
          "base_uri": "https://localhost:8080/"
        },
        "outputId": "b65b6b12-c933-417e-a81f-e4ec2f89b975"
      },
      "execution_count": 4,
      "outputs": [
        {
          "output_type": "stream",
          "name": "stdout",
          "text": [
            "{'C': 1, 'gamma': 0.1, 'kernel': 'linear'}\n"
          ]
        }
      ]
    },
    {
      "cell_type": "code",
      "source": [
        "svm_model_best = SVC(C=grid_search.best_params_['C'], gamma=grid_search.best_params_['gamma'], kernel=grid_search.best_params_['kernel'])\n",
        "svm_model_best.fit(x_train_vec, y_train)\n",
        "\n",
        "y_pred_svm_b = svm_model_best.predict(x_test_vec)\n",
        "\n",
        "# Calculer l'exactitude des prédictions\n",
        "accuracy_svm_b = accuracy_score(y_test, y_pred_svm_b)\n",
        "precision_svm_b = precision_score(y_test, y_pred_svm_b, average='macro')\n",
        "recall_svm_b = recall_score(y_test, y_pred_svm_b, average='macro')\n",
        "f1_score_svm_b = f1_score(y_test, y_pred_svm_b, average='macro')\n",
        "\n",
        "print(\"Exactitude de SVM: \", accuracy_svm_b)\n",
        "print(\"Précision de SVM: \", precision_svm_b)\n",
        "print(\"Rappel de SVM: \", recall_svm_b)\n",
        "print(\"F1 score de SVM: \", f1_score_svm_b)\n",
        "\n",
        "from sklearn.metrics import confusion_matrix\n",
        "import matplotlib.pyplot as plt\n",
        "import seaborn as sns\n",
        "\n",
        "cm = confusion_matrix(y_test, y_pred_svm_b)\n",
        "sns.heatmap(cm, annot=True, fmt='g')\n",
        "plt.xlabel('Predicted')\n",
        "plt.ylabel('Actual')\n",
        "plt.show()"
      ],
      "metadata": {
        "id": "DWyQaKy9deg9",
        "colab": {
          "base_uri": "https://localhost:8080/",
          "height": 522
        },
        "outputId": "827572f1-f14b-4cb1-bc67-0899dca05bd2"
      },
      "execution_count": 7,
      "outputs": [
        {
          "output_type": "stream",
          "name": "stdout",
          "text": [
            "Exactitude de SVM:  0.8859666733587633\n",
            "Précision de SVM:  0.8863878031655912\n",
            "Rappel de SVM:  0.8857013844652835\n",
            "F1 score de SVM:  0.8858589793533308\n"
          ]
        },
        {
          "output_type": "display_data",
          "data": {
            "text/plain": [
              "<Figure size 640x480 with 2 Axes>"
            ],
            "image/png": "[encoded data removed]"
          },
          "metadata": {}
        }
      ]
    }
  ]
}
